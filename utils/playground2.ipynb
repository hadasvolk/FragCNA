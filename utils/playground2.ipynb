{
 "cells": [
  {
   "cell_type": "code",
   "execution_count": 1,
   "metadata": {},
   "outputs": [
    {
     "name": "stderr",
     "output_type": "stream",
     "text": [
      "No GPU/TPU found, falling back to CPU. (Set TF_CPP_MIN_LOG_LEVEL=0 and rerun for more info.)\n"
     ]
    },
    {
     "data": {
      "application/vnd.jupyter.widget-view+json": {
       "model_id": "824772140d9045058b73f4f211b1a773",
       "version_major": 2,
       "version_minor": 0
      },
      "text/plain": [
       "  0%|          | 0/2000 [00:00<?, ?it/s]"
      ]
     },
     "metadata": {},
     "output_type": "display_data"
    },
    {
     "data": {
      "application/vnd.jupyter.widget-view+json": {
       "model_id": "9e2a2077ac64419cb562b2ee8bd7a48f",
       "version_major": 2,
       "version_minor": 0
      },
      "text/plain": [
       "  0%|          | 0/2000 [00:00<?, ?it/s]"
      ]
     },
     "metadata": {},
     "output_type": "display_data"
    },
    {
     "data": {
      "application/vnd.jupyter.widget-view+json": {
       "model_id": "12512dadc4ef4f378d9dfcd55f0f0a2d",
       "version_major": 2,
       "version_minor": 0
      },
      "text/plain": [
       "  0%|          | 0/2000 [00:00<?, ?it/s]"
      ]
     },
     "metadata": {},
     "output_type": "display_data"
    },
    {
     "data": {
      "application/vnd.jupyter.widget-view+json": {
       "model_id": "a00fd09fe5fb4b658576f2311ee26a1c",
       "version_major": 2,
       "version_minor": 0
      },
      "text/plain": [
       "  0%|          | 0/2000 [00:00<?, ?it/s]"
      ]
     },
     "metadata": {},
     "output_type": "display_data"
    },
    {
     "name": "stdout",
     "output_type": "stream",
     "text": [
      "CPU times: user 25min 43s, sys: 14min 28s, total: 40min 11s\n",
      "Wall time: 8min 22s\n",
      "\n",
      "                 mean       std    median      5.0%     95.0%     n_eff     r_hat\n",
      "      mu[0]     -0.02      0.02     -0.03     -0.04      0.01      2.00   1026.73\n",
      "      mu[1]      0.00      0.03     -0.01     -0.02      0.05      2.00    630.89\n",
      "      mu[2]      0.02      0.03      0.00     -0.00      0.08      2.00    408.32\n",
      "      mu[3]      0.04      0.04      0.02      0.02      0.11      2.00    327.84\n",
      "      mu[4]      0.06      0.04      0.04      0.03      0.13      2.00    287.55\n",
      "      mu[5]     -0.04      0.02     -0.04     -0.06     -0.02      2.00    274.09\n",
      "      mu[6]     -0.02      0.02     -0.02     -0.04      0.01      2.00    751.18\n",
      "      mu[7]      0.00      0.02     -0.01     -0.02      0.05      2.00    591.29\n",
      "      mu[8]      0.02      0.03      0.01      0.00      0.08      2.00    394.63\n",
      "      mu[9]      0.04      0.04      0.03      0.02      0.11      2.00    318.47\n",
      "     mu[10]      0.06      0.04      0.04      0.03      0.14      2.00    280.10\n",
      "     mu[11]     -0.03      0.02     -0.03     -0.05     -0.02      2.00    249.59\n",
      "     mu[12]     -0.01      0.02     -0.02     -0.04      0.01      2.00    560.94\n",
      "     mu[13]      0.01      0.02     -0.00     -0.02      0.05      2.00    532.69\n",
      "     mu[14]      0.03      0.03      0.01      0.00      0.08      2.00    376.82\n",
      "     mu[15]      0.05      0.03      0.03      0.02      0.11      2.00    307.64\n",
      "     mu[16]      0.07      0.04      0.05      0.04      0.14      2.00    271.95\n",
      "     mu[17]     -0.03      0.02     -0.03     -0.05     -0.01      2.00    232.39\n",
      "     mu[18]     -0.01      0.02     -0.02     -0.04      0.01      2.00    560.94\n",
      "     mu[19]      0.00      0.02     -0.01     -0.02      0.05      2.00    591.29\n",
      "     mu[20]      0.02      0.03      0.00     -0.00      0.08      2.00    408.32\n",
      "     mu[21]      0.04      0.04      0.02      0.01      0.11      2.00    335.65\n",
      "     mu[22]      0.05      0.05      0.03      0.01      0.13      2.00    300.08\n",
      "          n      0.96      0.01      0.96      0.94      0.98       nan    170.01\n",
      "        phi      2.05      0.89      2.35      0.57      2.93      2.00    224.90\n",
      "          s      0.21      0.20      0.15      0.01      0.52      2.00    228.26\n",
      "   scale[0]      0.12      0.17      0.03      0.00      0.41      2.00    113.84\n",
      "   scale[1]      0.20      0.42      0.03      0.00      1.04      3.57      1.71\n",
      "   scale[2]      0.38      0.64      0.02      0.00      1.49      2.00   3173.56\n",
      "   scale[3]      0.19      0.30      0.03      0.00      0.54      4.05      1.47\n",
      "   scale[4]      0.01      0.01      0.01      0.00      0.02      2.20     10.41\n",
      "   scale[5]      0.02      0.02      0.02      0.00      0.04      2.00     97.07\n",
      "   scale[6]      0.89      1.51      0.03      0.00      3.50      2.00    335.02\n",
      "   scale[7]      0.42      0.45      0.36      0.02      1.43      8.15      2.15\n",
      "   scale[8]      0.75      0.77      0.16      0.02      1.83      2.23      3.14\n",
      "   scale[9]      0.18      0.28      0.03      0.00      0.68      2.00    128.36\n",
      "  scale[10]      1.41      1.43      1.20      0.00      3.19      2.00    279.75\n",
      "  scale[11]      0.39      0.54      0.13      0.01      1.31      2.00    339.08\n",
      "  scale[12]      0.87      0.83      0.97      0.00      2.11      2.19      3.68\n",
      "  scale[13]      0.06      0.10      0.03      0.00      0.14      7.84      1.21\n",
      "  scale[14]      0.25      0.39      0.03      0.01      0.92      2.00     93.72\n",
      "  scale[15]      0.17      0.26      0.03      0.00      0.62      2.00    110.68\n",
      "  scale[16]      0.71      0.71      0.58      0.02      1.60      2.00     56.20\n",
      "  scale[17]      0.54      0.52      0.86      0.00      1.14      2.21      3.23\n",
      "  scale[18]      0.48      0.46      0.43      0.02      1.11      2.00     47.98\n",
      "  scale[19]      0.63      0.65      0.90      0.00      1.54      2.08      5.08\n",
      "  scale[20]      0.54      0.90      0.03      0.00      2.10      2.00   3204.33\n",
      "  scale[21]      0.41      0.57      0.02      0.01      1.32      2.23      3.12\n",
      "  scale[22]      0.33      0.36      0.20      0.00      0.90      2.00    435.18\n",
      " weights[0]      0.05      0.09      0.00      0.00      0.21      2.16      4.29\n",
      " weights[1]      0.04      0.05      0.02      0.00      0.13      2.01     41.88\n",
      " weights[2]      0.03      0.04      0.01      0.00      0.09      2.02     17.53\n",
      " weights[3]      0.00      0.01      0.00      0.00      0.01     25.69      1.18\n",
      " weights[4]      0.04      0.04      0.02      0.00      0.10      2.07     12.03\n",
      " weights[5]      0.09      0.15      0.01      0.00      0.35      2.00    377.92\n",
      " weights[6]      0.15      0.22      0.00      0.00      0.52      2.01     17.45\n",
      " weights[7]      0.00      0.00      0.00      0.00      0.01      2.55      2.40\n",
      " weights[8]      0.01      0.01      0.00      0.00      0.03       nan     49.77\n",
      " weights[9]      0.02      0.03      0.01      0.00      0.06      2.20      3.20\n",
      "weights[10]      0.01      0.02      0.00      0.00      0.05      2.14     12.41\n",
      "weights[11]      0.03      0.04      0.00      0.00      0.07      3.44      1.94\n",
      "weights[12]      0.01      0.01      0.00      0.00      0.02      2.05      6.92\n",
      "weights[13]      0.01      0.01      0.00      0.00      0.02      2.04      7.94\n",
      "weights[14]      0.04      0.05      0.00      0.00      0.11      3.53      3.97\n",
      "weights[15]      0.03      0.03      0.00      0.00      0.09      2.11      5.13\n",
      "weights[16]      0.08      0.10      0.03      0.00      0.27      2.10     10.66\n",
      "weights[17]      0.01      0.02      0.00      0.00      0.01     15.07      1.16\n",
      "weights[18]      0.00      0.00      0.00      0.00      0.00     11.09      1.27\n",
      "weights[19]      0.05      0.07      0.00      0.00      0.17      2.03     12.53\n",
      "weights[20]      0.17      0.29      0.01      0.00      0.68      2.00     76.87\n",
      "weights[21]      0.11      0.20      0.00      0.00      0.49      2.05     13.38\n",
      "weights[22]      0.03      0.03      0.00      0.00      0.07      2.34      3.43\n",
      "\n"
     ]
    }
   ],
   "source": [
    "import numpyro\n",
    "import numpyro.distributions as dist\n",
    "from numpyro.infer import HMCECS, MCMC, NUTS\n",
    "import jax\n",
    "from jax import random, vmap\n",
    "import jax.numpy as jnp\n",
    "import pickle\n",
    "\n",
    "import os\n",
    "os.environ[\"XLA_FLAGS\"] = \"--xla_force_host_platform_device_count=16\"\n",
    "\n",
    "def t_mixture_model(states, data=None):\n",
    "    n_states = len(states)\n",
    "\n",
    "    weights = numpyro.sample(\"weights\", dist.Dirichlet(concentration=jnp.ones(n_states)))\n",
    "    n = numpyro.sample(\"n\", dist.Beta(15, 1.5))\n",
    "    s = numpyro.sample(\"s\", dist.Beta(3, 15))\n",
    "    phi = numpyro.sample(\"phi\", dist.Gamma(2.5, 2))\n",
    "\n",
    "    mu = numpyro.deterministic(\"mu\", jnp.log((2 * n + (1 - n) * ((1 - s) * states[:, 0] + s * states[:, 1])) / (2 * n + (1 - n) * phi)))\n",
    "\n",
    "    with numpyro.plate(\"states\", n_states):\n",
    "        scale = numpyro.sample(\"scale\", dist.Gamma(2, 2))\n",
    "\n",
    "    with numpyro.plate(\"data\", data.shape[0], subsample_size=1_000):\n",
    "        batch = numpyro.subsample(data, event_dim=0)\n",
    "        numpyro.sample(\"obs\", dist.MixtureSameFamily(dist.Categorical(weights), dist.Normal(mu, scale), validate_args=False), obs=batch)\n",
    "\n",
    "states = jnp.array([[c, c-1] for c in range(1, 6)] + \n",
    "                   [[c, c] for c in range(6)] + \n",
    "                   [[c, c+1] for c in range(6)] +\n",
    "                    [[c, 2] for c in range(6)])\n",
    "\n",
    "\n",
    "regions = pickle.load(open('test/luad34.regions.entropies.pkl', 'rb'))\n",
    "data = jnp.array(regions[regions.chrom != 19].loc[:, 'log2_corrected'].values)\n",
    "\n",
    "kernel = HMCECS(NUTS(t_mixture_model), num_blocks=100)\n",
    "mcmc = MCMC(kernel, num_warmup=1000, num_samples=1000, num_chains=4)\n",
    "%time mcmc.run(random.PRNGKey(0), states, data=data)\n",
    "mcmc.print_summary(exclude_deterministic=False)\n"
   ]
  },
  {
   "cell_type": "code",
   "execution_count": null,
   "metadata": {},
   "outputs": [],
   "source": [
    "import pandas as pd\n",
    "import numpy as np\n",
    "import os\n",
    "import pickle\n",
    "import matplotlib.pyplot as plt\n",
    "import pymc as pm\n",
    "import arviz as az\n",
    "\n",
    "regions = pickle.load(open('test/luad34.regions.entropies.pkl', 'rb'))\n",
    "data = regions[regions.chrom != 19].loc[:, 'log2_corrected'].values\n",
    "\n",
    "minibatches = pm.Minibatch(data, batch_size=1_000)\n",
    "states = np.array([[c, c-1] for c in range(1, 6)] + \n",
    "                    [[c, c] for c in range(6)] + \n",
    "                    [[c, c+1] for c in range(6)] +\n",
    "                        [[c, 2] for c in range(6)])\n",
    "n_states = states.shape[0]\n",
    "\n",
    "with pm.Model() as model:\n",
    "    n = pm.Beta('n', alpha=15, beta=1.5)\n",
    "    s = pm.Beta('s', alpha=3, beta=15)\n",
    "    phi = pm.Gamma('phi', alpha=2.5, beta=2)\n",
    "    w = pm.Dirichlet('w', a=np.ones(n_states))\n",
    "    \n",
    "    mu = pm.Deterministic('mu', np.log((2 * n + (1 - n) * ((1 - s) * states[:, 0] + s * states[:, 1])) / (2 * n + (1 - n) * phi)))\n",
    "    \n",
    "    likelihood = pm.Categorical('likelihood', p=w, observed=sta\n",
    "    \n",
    "    %time trace = pm.sample(1000, tune=1000, cores=4, chains=1)"
   ]
  },
  {
   "cell_type": "code",
   "execution_count": 26,
   "metadata": {},
   "outputs": [
    {
     "data": {
      "text/plain": [
       "{'depth',\n",
       " 'diverging',\n",
       " 'energy',\n",
       " 'energy_error',\n",
       " 'index_in_trajectory',\n",
       " 'largest_eigval',\n",
       " 'max_energy_error',\n",
       " 'mean_tree_accept',\n",
       " 'model_logp',\n",
       " 'perf_counter_diff',\n",
       " 'perf_counter_start',\n",
       " 'process_time_diff',\n",
       " 'reached_max_treedepth',\n",
       " 'smallest_eigval',\n",
       " 'step_size',\n",
       " 'step_size_bar',\n",
       " 'tree_size',\n",
       " 'tune',\n",
       " 'warning'}"
      ]
     },
     "execution_count": 26,
     "metadata": {},
     "output_type": "execute_result"
    }
   ],
   "source": [
    "trace.stat_names"
   ]
  },
  {
   "cell_type": "code",
   "execution_count": 57,
   "metadata": {},
   "outputs": [
    {
     "name": "stderr",
     "output_type": "stream",
     "text": [
      "/tmp/ipykernel_9554/3980858302.py:9: UserWarning: Boolean Series key will be reindexed to match DataFrame index.\n",
      "  df.sort_values(['state_c', 'state_cs'])[df.w > 0.01]\n"
     ]
    },
    {
     "data": {
      "text/html": [
       "<div>\n",
       "<style scoped>\n",
       "    .dataframe tbody tr th:only-of-type {\n",
       "        vertical-align: middle;\n",
       "    }\n",
       "\n",
       "    .dataframe tbody tr th {\n",
       "        vertical-align: top;\n",
       "    }\n",
       "\n",
       "    .dataframe thead th {\n",
       "        text-align: right;\n",
       "    }\n",
       "</style>\n",
       "<table border=\"1\" class=\"dataframe\">\n",
       "  <thead>\n",
       "    <tr style=\"text-align: right;\">\n",
       "      <th></th>\n",
       "      <th>state_c</th>\n",
       "      <th>state_cs</th>\n",
       "      <th>mu</th>\n",
       "      <th>mu_sd</th>\n",
       "      <th>w</th>\n",
       "      <th>nu</th>\n",
       "    </tr>\n",
       "  </thead>\n",
       "  <tbody>\n",
       "    <tr>\n",
       "      <th>17</th>\n",
       "      <td>0.0</td>\n",
       "      <td>2.0</td>\n",
       "      <td>-0.007640</td>\n",
       "      <td>0.010755</td>\n",
       "      <td>0.207221</td>\n",
       "      <td>2.056432</td>\n",
       "    </tr>\n",
       "    <tr>\n",
       "      <th>12</th>\n",
       "      <td>1.0</td>\n",
       "      <td>2.0</td>\n",
       "      <td>-0.000385</td>\n",
       "      <td>0.010913</td>\n",
       "      <td>0.015526</td>\n",
       "      <td>0.908837</td>\n",
       "    </tr>\n",
       "    <tr>\n",
       "      <th>1</th>\n",
       "      <td>2.0</td>\n",
       "      <td>1.0</td>\n",
       "      <td>0.005392</td>\n",
       "      <td>0.011310</td>\n",
       "      <td>0.011749</td>\n",
       "      <td>1.193112</td>\n",
       "    </tr>\n",
       "    <tr>\n",
       "      <th>7</th>\n",
       "      <td>2.0</td>\n",
       "      <td>2.0</td>\n",
       "      <td>0.006807</td>\n",
       "      <td>0.012050</td>\n",
       "      <td>0.010975</td>\n",
       "      <td>0.731556</td>\n",
       "    </tr>\n",
       "    <tr>\n",
       "      <th>21</th>\n",
       "      <td>4.0</td>\n",
       "      <td>2.0</td>\n",
       "      <td>0.021003</td>\n",
       "      <td>0.016176</td>\n",
       "      <td>0.019126</td>\n",
       "      <td>1.315985</td>\n",
       "    </tr>\n",
       "    <tr>\n",
       "      <th>3</th>\n",
       "      <td>4.0</td>\n",
       "      <td>3.0</td>\n",
       "      <td>0.022390</td>\n",
       "      <td>0.017063</td>\n",
       "      <td>0.016499</td>\n",
       "      <td>0.446803</td>\n",
       "    </tr>\n",
       "    <tr>\n",
       "      <th>9</th>\n",
       "      <td>4.0</td>\n",
       "      <td>4.0</td>\n",
       "      <td>0.023774</td>\n",
       "      <td>0.017951</td>\n",
       "      <td>0.209064</td>\n",
       "      <td>1.279603</td>\n",
       "    </tr>\n",
       "    <tr>\n",
       "      <th>22</th>\n",
       "      <td>5.0</td>\n",
       "      <td>2.0</td>\n",
       "      <td>0.028011</td>\n",
       "      <td>0.018715</td>\n",
       "      <td>0.207500</td>\n",
       "      <td>1.349599</td>\n",
       "    </tr>\n",
       "    <tr>\n",
       "      <th>4</th>\n",
       "      <td>5.0</td>\n",
       "      <td>4.0</td>\n",
       "      <td>0.030757</td>\n",
       "      <td>0.020508</td>\n",
       "      <td>0.205462</td>\n",
       "      <td>1.905273</td>\n",
       "    </tr>\n",
       "    <tr>\n",
       "      <th>10</th>\n",
       "      <td>5.0</td>\n",
       "      <td>5.0</td>\n",
       "      <td>0.032126</td>\n",
       "      <td>0.021402</td>\n",
       "      <td>0.011359</td>\n",
       "      <td>1.053316</td>\n",
       "    </tr>\n",
       "  </tbody>\n",
       "</table>\n",
       "</div>"
      ],
      "text/plain": [
       "    state_c  state_cs        mu     mu_sd         w        nu\n",
       "17      0.0       2.0 -0.007640  0.010755  0.207221  2.056432\n",
       "12      1.0       2.0 -0.000385  0.010913  0.015526  0.908837\n",
       "1       2.0       1.0  0.005392  0.011310  0.011749  1.193112\n",
       "7       2.0       2.0  0.006807  0.012050  0.010975  0.731556\n",
       "21      4.0       2.0  0.021003  0.016176  0.019126  1.315985\n",
       "3       4.0       3.0  0.022390  0.017063  0.016499  0.446803\n",
       "9       4.0       4.0  0.023774  0.017951  0.209064  1.279603\n",
       "22      5.0       2.0  0.028011  0.018715  0.207500  1.349599\n",
       "4       5.0       4.0  0.030757  0.020508  0.205462  1.905273\n",
       "10      5.0       5.0  0.032126  0.021402  0.011359  1.053316"
      ]
     },
     "execution_count": 57,
     "metadata": {},
     "output_type": "execute_result"
    }
   ],
   "source": [
    "values = {}\n",
    "for i, state in enumerate(states):\n",
    "    mu = trace['mu'][:, i].mean()\n",
    "    mu_sd = trace['mu'][:, i].std()\n",
    "    w = trace['w'][:, i].mean()\n",
    "    nu = trace['nu'][:, i].mean()\n",
    "    values[i] = [state[0], state[1], mu, mu_sd, w, nu]\n",
    "df = pd.DataFrame(values, index=['state_c', 'state_cs', 'mu', 'mu_sd', 'w', 'nu']).T\n",
    "df.sort_values(['state_c', 'state_cs'])[df.w > 0.01]"
   ]
  }
 ],
 "metadata": {
  "kernelspec": {
   "display_name": "fragcna",
   "language": "python",
   "name": "python3"
  },
  "language_info": {
   "codemirror_mode": {
    "name": "ipython",
    "version": 3
   },
   "file_extension": ".py",
   "mimetype": "text/x-python",
   "name": "python",
   "nbconvert_exporter": "python",
   "pygments_lexer": "ipython3",
   "version": "3.11.4"
  },
  "orig_nbformat": 4
 },
 "nbformat": 4,
 "nbformat_minor": 2
}
