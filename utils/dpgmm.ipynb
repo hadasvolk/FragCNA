{
 "cells": [
  {
   "cell_type": "code",
   "execution_count": 21,
   "metadata": {},
   "outputs": [
    {
     "name": "stderr",
     "output_type": "stream",
     "text": [
      "Auto-assigning NUTS sampler...\n",
      "Initializing NUTS using advi+adapt_diag...\n"
     ]
    },
    {
     "data": {
      "text/html": [
       "\n",
       "<style>\n",
       "    /* Turns off some styling */\n",
       "    progress {\n",
       "        /* gets rid of default border in Firefox and Opera. */\n",
       "        border: none;\n",
       "        /* Needs to be in here for Safari polyfill so background images work as expected. */\n",
       "        background-size: auto;\n",
       "    }\n",
       "    progress:not([value]), progress:not([value])::-webkit-progress-bar {\n",
       "        background: repeating-linear-gradient(45deg, #7e7e7e, #7e7e7e 10px, #5c5c5c 10px, #5c5c5c 20px);\n",
       "    }\n",
       "    .progress-bar-interrupted, .progress-bar-interrupted::-webkit-progress-bar {\n",
       "        background: #F44336;\n",
       "    }\n",
       "</style>\n"
      ],
      "text/plain": [
       "<IPython.core.display.HTML object>"
      ]
     },
     "metadata": {},
     "output_type": "display_data"
    },
    {
     "data": {
      "text/html": [
       "\n",
       "    <div>\n",
       "      <progress value='79199' class='' max='200000' style='width:300px; height:20px; vertical-align: middle;'></progress>\n",
       "      39.60% [79199/200000 7:07:54&lt;10:52:40 Average Loss = -3.7435e+05]\n",
       "    </div>\n",
       "    "
      ],
      "text/plain": [
       "<IPython.core.display.HTML object>"
      ]
     },
     "metadata": {},
     "output_type": "display_data"
    },
    {
     "name": "stderr",
     "output_type": "stream",
     "text": [
      "Convergence achieved at 79200\n",
      "Interrupted at 79,199 [39%]: Average Loss = -2.176e+05\n",
      "Sequential sampling (1 chains in 1 job)\n",
      "NUTS: [w, mu, sigma]\n"
     ]
    },
    {
     "data": {
      "text/html": [
       "\n",
       "<style>\n",
       "    /* Turns off some styling */\n",
       "    progress {\n",
       "        /* gets rid of default border in Firefox and Opera. */\n",
       "        border: none;\n",
       "        /* Needs to be in here for Safari polyfill so background images work as expected. */\n",
       "        background-size: auto;\n",
       "    }\n",
       "    progress:not([value]), progress:not([value])::-webkit-progress-bar {\n",
       "        background: repeating-linear-gradient(45deg, #7e7e7e, #7e7e7e 10px, #5c5c5c 10px, #5c5c5c 20px);\n",
       "    }\n",
       "    .progress-bar-interrupted, .progress-bar-interrupted::-webkit-progress-bar {\n",
       "        background: #F44336;\n",
       "    }\n",
       "</style>\n"
      ],
      "text/plain": [
       "<IPython.core.display.HTML object>"
      ]
     },
     "metadata": {},
     "output_type": "display_data"
    },
    {
     "data": {
      "text/html": [
       "\n",
       "    <div>\n",
       "      <progress value='686' class='' max='2000' style='width:300px; height:20px; vertical-align: middle;'></progress>\n",
       "      34.30% [686/2000 38:25:04&lt;73:35:14 Sampling chain 0, 0 divergences]\n",
       "    </div>\n",
       "    "
      ],
      "text/plain": [
       "<IPython.core.display.HTML object>"
      ]
     },
     "metadata": {},
     "output_type": "display_data"
    }
   ],
   "source": [
    "import pandas as pd\n",
    "import numpy as np\n",
    "import os\n",
    "import pickle\n",
    "import matplotlib.pyplot as plt\n",
    "import pymc as pm\n",
    "import arviz as az\n",
    "import pytensor\n",
    "\n",
    "\n",
    "regions = pickle.load(open('test/luad34.regions.entropies.pkl', 'rb'))\n",
    "data = regions[regions.chrom != 19].loc[:, 'log2_corrected'].values\n",
    "batches = pm.Minibatch(data, batch_size=1_000)\n",
    "\n",
    "states = np.array([[c, c-1] for c in range(1, 6)] + \n",
    "                    [[c, c] for c in range(6)] + \n",
    "                    [[c, c+1] for c in range(6)] +\n",
    "                        [[c, 2] for c in range(6)])\n",
    "n_states = states.shape[0]\n",
    "K = 30\n",
    "alpha = 1\n",
    "with pm.Model() as model:\n",
    "\n",
    "    w = pm.StickBreakingWeights(\"w\", alpha, K-1)\n",
    "\n",
    "    mu = pm.Normal(\"mu\", mu=0, sigma=10, shape=K)\n",
    "    sigma = pm.HalfNormal(\"sigma\", sigma=10, shape=K)\n",
    "\n",
    "    obs = pm.Mixture(\"obs\", w, pm.StudentT.dist(mu=mu, sigma=sigma, nu=1, shape=K), observed=data)\n",
    "\n",
    "    trace = pm.sample(1000, tune=1000, cores=1, chains=1, init='advi+adapt_diag')\n",
    "\n",
    "az.plot_trace(trace)\n",
    "\n",
    "# with pm.Model() as model:\n",
    "#     w = pm.StickBreakingWeights('w', n_states)\n",
    "\n",
    "#     n = pm.Beta('n', alpha=99, beta=1)\n",
    "#     s = pm.Beta('s', alpha=10, beta=90)\n",
    "#     phi = pm.Gamma('phi', alpha=3.5, beta=1)\n",
    "\n",
    "#     w = pm.Dirichlet('w', a = np.ones(n_states))\n",
    "\n",
    "#     mu = pm.Deterministic('mu', np.log((2 * n + (1 - n) * ((1 - s) * states[:, 0] + s * states[:, 1])) / (2 * n + (1 - n) * phi)))\n",
    "#     lambda_ = pm.Gamma('lambda', alpha=3, beta=1, shape=n_states)\n",
    "#     nu = pm.Gamma('nu', alpha=3, beta=1, shape=n_states)\n",
    "\n",
    "#     obs = pm.Mixture('obs', w, pm.StudentT.dist(mu=mu, lam=lambda_, nu=nu, shape=n_states), observed=data)\n"
   ]
  }
 ],
 "metadata": {
  "kernelspec": {
   "display_name": "fragcna",
   "language": "python",
   "name": "python3"
  },
  "language_info": {
   "codemirror_mode": {
    "name": "ipython",
    "version": 3
   },
   "file_extension": ".py",
   "mimetype": "text/x-python",
   "name": "python",
   "nbconvert_exporter": "python",
   "pygments_lexer": "ipython3",
   "version": "3.10.12"
  },
  "orig_nbformat": 4
 },
 "nbformat": 4,
 "nbformat_minor": 2
}
